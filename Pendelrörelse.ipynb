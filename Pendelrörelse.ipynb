{
 "cells": [
  {
   "cell_type": "markdown",
   "id": "31380541",
   "metadata": {},
   "source": [
    "# Pendelrörelse\n",
    "I den här labben ska ni mäta rörelsen för en riktig pendel och jämföra den med rörelsen för en matematisk pendel. Den matematiska pendeln simuleras med hjälp av python-notebooken nedan."
   ]
  },
  {
   "cell_type": "markdown",
   "id": "5328a691",
   "metadata": {},
   "source": [
    "## Läs in nödvändiga pythonbibliotek\n",
    "Först behövs de funktioner som ska användas i programmet importeras."
   ]
  },
  {
   "cell_type": "code",
   "execution_count": 2,
   "id": "bc81870a",
   "metadata": {},
   "outputs": [
    {
     "ename": "ModuleNotFoundError",
     "evalue": "No module named 'numpy'",
     "output_type": "error",
     "traceback": [
      "\u001b[0;31m---------------------------------------------------------------------------\u001b[0m",
      "\u001b[0;31mModuleNotFoundError\u001b[0m                       Traceback (most recent call last)",
      "\u001b[0;32m/tmp/ipykernel_86/3507028171.py\u001b[0m in \u001b[0;36m<module>\u001b[0;34m\u001b[0m\n\u001b[1;32m      7\u001b[0m \"\"\"\n\u001b[1;32m      8\u001b[0m \u001b[0;31m## Import requiried libraries\u001b[0m\u001b[0;34m\u001b[0m\u001b[0;34m\u001b[0m\u001b[0;34m\u001b[0m\u001b[0m\n\u001b[0;32m----> 9\u001b[0;31m \u001b[0;32mimport\u001b[0m \u001b[0mnumpy\u001b[0m \u001b[0;32mas\u001b[0m \u001b[0mnp\u001b[0m\u001b[0;34m\u001b[0m\u001b[0;34m\u001b[0m\u001b[0m\n\u001b[0m\u001b[1;32m     10\u001b[0m \u001b[0;32mimport\u001b[0m \u001b[0mmatplotlib\u001b[0m\u001b[0;34m.\u001b[0m\u001b[0mpyplot\u001b[0m \u001b[0;32mas\u001b[0m \u001b[0mplt\u001b[0m\u001b[0;34m\u001b[0m\u001b[0;34m\u001b[0m\u001b[0m\n\u001b[1;32m     11\u001b[0m \u001b[0;32mfrom\u001b[0m \u001b[0mscipy\u001b[0m\u001b[0;34m.\u001b[0m\u001b[0mintegrate\u001b[0m \u001b[0;32mimport\u001b[0m \u001b[0modeint\u001b[0m\u001b[0;34m\u001b[0m\u001b[0;34m\u001b[0m\u001b[0m\n",
      "\u001b[0;31mModuleNotFoundError\u001b[0m: No module named 'numpy'"
     ]
    }
   ],
   "source": [
    "#!/usr/bin/env python3\n",
    "# -*- coding: utf-8 -*-\n",
    "\"\"\"\n",
    "Created on Mon Oct 25 22:29:47 2021\n",
    "\n",
    "@author: andreas\n",
    "\"\"\"\n",
    "## Import requiried libraries\n",
    "import numpy as np\n",
    "import matplotlib.pyplot as plt\n",
    "from scipy.integrate import odeint"
   ]
  },
  {
   "cell_type": "markdown",
   "id": "df409686",
   "metadata": {},
   "source": [
    "## Definiera konstanter och mått\n",
    "Konstanter och fasta längder som gäller för experimenten behöver definieras."
   ]
  },
  {
   "cell_type": "code",
   "execution_count": null,
   "id": "4487d343",
   "metadata": {},
   "outputs": [],
   "source": [
    "########################## Inputs #############################################\n",
    "# It is quite important that the length of the pendulum is measured accurately \n",
    "# for good results\n",
    "L = 0.44 #m\n",
    "g = 9.81 #m/s**2"
   ]
  },
  {
   "cell_type": "markdown",
   "id": "a6758dcd",
   "metadata": {},
   "source": [
    "## Funktioner för simulering av pendelrörelsen\n",
    "Nedan finns fördefinierade funktioner som används för att beskriva pendelrörelsen numeriskt."
   ]
  },
  {
   "cell_type": "markdown",
   "id": "c4e5b867",
   "metadata": {},
   "source": [
    "### Förenklad rörelse med analytisk lösning\n",
    "Om $sin(\\theta)$ för små vinklar approximeras med $\\theta$ kan utrycket för pendelns rörelse förenklas så att det går att lösa analytiskt. Den lösningen används i funktionen `mathematical_pendulum()`."
   ]
  },
  {
   "cell_type": "code",
   "execution_count": null,
   "id": "f0417aa0",
   "metadata": {},
   "outputs": [],
   "source": [
    "# This function calculates the angle and angular speed of a mathematical \n",
    "# pendulum. Input parameters are:\n",
    "# t - time in seconds (array)\n",
    "# amplitude - in radians\n",
    "# phi0 - initial angle in radians\n",
    "# returns: Array containing the angle and angular velocity as a fct of time\n",
    "def mathematical_pendulum(t, amplitude, phi0=0):\n",
    "    omega = np.sqrt(g/L)\n",
    "    return [amplitude*np.sin(omega*t+phi0/amplitude*np.pi/2), \\\n",
    "            amplitude*omega*np.cos(omega*t+phi0/amplitude*np.pi/2)]\n"
   ]
  },
  {
   "cell_type": "markdown",
   "id": "4e928a3f",
   "metadata": {},
   "source": [
    "### Realistisk rörelse med numerisk lösning\n",
    "Om approximationen $sin(\\theta)=\\theta$ används blir den analytiska lösningen väldigt komplicerad. Då är det bättre att lösa den numeriskt vilket görs med funktionen `numerical_pendulum()`. För att lösa den differentialekvation som beskriver rörelsen numeriskt behövs även en hjälpfunktion som returnerar dervatorna av vinkeln och vinkelhastigheten. Det görs i funktionen `pend()` som sedan anropas av `numerical_pendulum()`."
   ]
  },
  {
   "cell_type": "code",
   "execution_count": null,
   "id": "34e8ea25",
   "metadata": {},
   "outputs": [],
   "source": [
    "# pend calculates the derivatives of the angle and the angular velocity\n",
    "# for every time step in t. This is needed for the numerical \n",
    "# calculation of the pendulums motion.\n",
    "# Inputs:\n",
    "# y - Array that contains the angle and the angular velocity at the timestep t \n",
    "# t - time in seconds\n",
    "# c - characteristic constant g/L\n",
    "# returns the derivatives of y\n",
    "def pend(y, t, c=g/L):\n",
    "    theta, omega = y\n",
    "    dydt = [omega, - c*np.sin(theta)]\n",
    "    return dydt"
   ]
  },
  {
   "cell_type": "code",
   "execution_count": null,
   "id": "08235854",
   "metadata": {},
   "outputs": [],
   "source": [
    "# This function calculates the angle and angular speed of a pendulum. \n",
    "# For this it solves the differential equation numerically, instead of \n",
    "# using an approximation for the sine function.\n",
    "# Note that it does not consider friction.\n",
    "# Input parameters are:\n",
    "# t - time in seconds (array)\n",
    "# amplitude - in radians\n",
    "# phi0 - initial angle in radians\n",
    "# returns: Array containing the angle and angular velocity as a fct of time\n",
    "def numerical_pendulum(t, phi0, omega0):\n",
    "    solution = odeint(pend, [phi0, omega0], t)\n",
    "    return solution[:,0], solution[:,1]"
   ]
  },
  {
   "cell_type": "markdown",
   "id": "16c806e7",
   "metadata": {},
   "source": [
    "## Uppmätta värden\n",
    "För att plotta mätvärden läses de in i form av en *csv*-fil, d.v.s. en kolumnbaserad textfil. Beroende på om det är vinkeln eller x-koordinaten som har mäts behöver variabeln `input_is_x_coordinates` sättas till `True` eller `False`."
   ]
  },
  {
   "cell_type": "code",
   "execution_count": 1,
   "id": "81b28ea4",
   "metadata": {},
   "outputs": [
    {
     "ename": "NameError",
     "evalue": "name 'np' is not defined",
     "output_type": "error",
     "traceback": [
      "\u001b[0;31m---------------------------------------------------------------------------\u001b[0m",
      "\u001b[0;31mNameError\u001b[0m                                 Traceback (most recent call last)",
      "\u001b[0;32m/tmp/ipykernel_86/1629252300.py\u001b[0m in \u001b[0;36m<module>\u001b[0;34m\u001b[0m\n\u001b[1;32m      3\u001b[0m \u001b[0;31m# Further, it seems that the code gives the best results if the dataset starts\u001b[0m\u001b[0;34m\u001b[0m\u001b[0;34m\u001b[0m\u001b[0;34m\u001b[0m\u001b[0m\n\u001b[1;32m      4\u001b[0m \u001b[0;31m# with the pendulum at one of the turning points, i.e. zero angular velocity\u001b[0m\u001b[0;34m\u001b[0m\u001b[0;34m\u001b[0m\u001b[0;34m\u001b[0m\u001b[0m\n\u001b[0;32m----> 5\u001b[0;31m \u001b[0mdataset\u001b[0m \u001b[0;34m=\u001b[0m \u001b[0mnp\u001b[0m\u001b[0;34m.\u001b[0m\u001b[0mloadtxt\u001b[0m\u001b[0;34m(\u001b[0m\u001b[0;34m\"your_file.csv\"\u001b[0m\u001b[0;34m,\u001b[0m \u001b[0mskiprows\u001b[0m\u001b[0;34m=\u001b[0m\u001b[0;36m2\u001b[0m\u001b[0;34m,\u001b[0m \u001b[0mdelimiter\u001b[0m\u001b[0;34m=\u001b[0m\u001b[0;34m'\\t'\u001b[0m\u001b[0;34m)\u001b[0m\u001b[0;34m\u001b[0m\u001b[0;34m\u001b[0m\u001b[0m\n\u001b[0m\u001b[1;32m      6\u001b[0m \u001b[0;31m# There is also an option to read in the x coordinate only\u001b[0m\u001b[0;34m\u001b[0m\u001b[0;34m\u001b[0m\u001b[0;34m\u001b[0m\u001b[0m\n\u001b[1;32m      7\u001b[0m \u001b[0;31m# However, reading in the angle is preferable\u001b[0m\u001b[0;34m\u001b[0m\u001b[0;34m\u001b[0m\u001b[0;34m\u001b[0m\u001b[0m\n",
      "\u001b[0;31mNameError\u001b[0m: name 'np' is not defined"
     ]
    }
   ],
   "source": [
    "# Reads in the data as it comes from Tracker. The angle is supposed to be in \n",
    "# degree\n",
    "# Further, it seems that the code gives the best results if the dataset starts \n",
    "# with the pendulum at one of the turning points, i.e. zero angular velocity\n",
    "dataset = np.loadtxt(\"your_file.csv\", skiprows=2, delimiter='\\t')\n",
    "# There is also an option to read in the x coordinate only\n",
    "# However, reading in the angle is preferable\n",
    "input_is_x_coordinates = False"
   ]
  },
  {
   "cell_type": "markdown",
   "id": "a1aaea6f",
   "metadata": {},
   "source": [
    "De inlästa värdena omvandlas sedan till vinkelvärden i radianer."
   ]
  },
  {
   "cell_type": "code",
   "execution_count": null,
   "id": "e581ce36",
   "metadata": {},
   "outputs": [],
   "source": [
    "# This converts the input into the angle of the pendulum in radians\n",
    "if(input_is_x_coordinates):\n",
    "    phi_exp = np.arcsin(dataset[:,1]/L)\n",
    "else:\n",
    "    phi_exp = dataset[:,1]*np.pi/180"
   ]
  },
  {
   "cell_type": "markdown",
   "id": "fc6aba6b",
   "metadata": {},
   "source": [
    "Från den uppmätta vinkeln $phi$ görs en numerisk derivata $\\omega=\\frac{d\\phi}{dt}$. Dessutom identifieras begynnelsevärdena från mätningarna vilket behövs för de kommande simuleringarna."
   ]
  },
  {
   "cell_type": "code",
   "execution_count": null,
   "id": "2c847eed",
   "metadata": {},
   "outputs": [],
   "source": [
    "# Extracting the time of the experimental data\n",
    "t_exp = dataset[:,0]\n",
    "# Phi0 is the initial angle of the pendulum\n",
    "phi0 = phi_exp[0]\n",
    "# Calculating the derivative of phi as it is needed for the numerical \n",
    "# calculation and plots\n",
    "omega_exp = np.gradient(phi_exp, t_exp, edge_order=2)\n",
    "# Initial angular velocity\n",
    "omega0 = omega_exp[0]\n",
    "# Maximum amplitude of the pendulums motion\n",
    "amplitude = np.max(abs(phi_exp))"
   ]
  },
  {
   "cell_type": "markdown",
   "id": "dbb02486",
   "metadata": {},
   "source": [
    "För att kunna utföra simuleringarna behövs även en vektor med olika tidpunkter vilka skapas från era uppmätta start- och stopptider."
   ]
  },
  {
   "cell_type": "code",
   "execution_count": null,
   "id": "dec7b135",
   "metadata": {},
   "outputs": [],
   "source": [
    "# Extraction of the timeframe the measurement data was taken from. \n",
    "# This is needed for the plots\n",
    "xlims = [np.min(t_exp),np.max(t_exp)]\n",
    "# Creation of an array that represents smaller timesteps than the experimental \n",
    "# data.This is done to get a smoother graph for the theoretical calculations\n",
    "t = np.linspace(xlims[0], xlims[1], 1000)"
   ]
  },
  {
   "cell_type": "markdown",
   "id": "851d8696",
   "metadata": {},
   "source": [
    "## Analytiska och numeriska lösningar\n",
    "Nu kan rörelsen simuleras med de två olika lösningsmetoderna vi introducerade tidigare."
   ]
  },
  {
   "cell_type": "code",
   "execution_count": null,
   "id": "fe89970d",
   "metadata": {},
   "outputs": [],
   "source": [
    "# Thereoretical calculations for the mathematical pendulum and the numerical \n",
    "# solution.\n",
    "phi_mathematical, omega_mathematical = mathematical_pendulum(t, amplitude, phi0)\n",
    "phi_numerical, omega_numerical = numerical_pendulum(t, phi0, omega0)"
   ]
  },
  {
   "cell_type": "markdown",
   "id": "154eb01b",
   "metadata": {},
   "source": [
    "## Uppmätt och simulerad vinkelrörelse\n",
    "Med alla simuleringar gjorda kan mätdatan jämföras med de numeriska lösningarna för vinkelrörelsen."
   ]
  },
  {
   "cell_type": "code",
   "execution_count": null,
   "id": "99c3dcc3",
   "metadata": {},
   "outputs": [],
   "source": [
    "# Creating plots for the angle as function of time\n",
    "# Here I thought that the students should put their own labels for the axis\n",
    "# into the code\n",
    "plt.figure(figsize=(16,9))\n",
    "plt.plot(t_exp, phi_exp, \"o\",  label='experiment label')\n",
    "plt.plot(t, phi_numerical, label='numerical solution label')\n",
    "plt.plot(t, phi_mathematical, label='mathematical solution label')\n",
    "# The location of the legend can also be manually be chosen according to this \n",
    "# chart: https://www.geeksforgeeks.org/change-the-legend-position-in-matplotlib/\n",
    "plt.legend(loc='best')\n",
    "plt.ylabel('y-label')\n",
    "plt.xlabel('x-label')\n",
    "plt.xlim(xlims)\n",
    "plt.grid()\n",
    "plt.show()\n",
    "plt.close()"
   ]
  },
  {
   "cell_type": "markdown",
   "id": "938db8c9",
   "metadata": {},
   "source": [
    "## Uppmätt och simulerad vinkelhastighet\n",
    "Samma sak kan även göras för vinkelhastigheten."
   ]
  },
  {
   "cell_type": "code",
   "execution_count": null,
   "id": "259a019a",
   "metadata": {},
   "outputs": [],
   "source": [
    "# Creating plots for the anglular velocity as function of time\n",
    "# Here I thought that the students should put their own labels for the axis\n",
    "# into the code\n",
    "plt.figure(figsize=(16,9))\n",
    "plt.plot(t_exp, omega_exp, \"o\",  label='experiment label')\n",
    "plt.plot(t, omega_numerical, label='numerical solution label')\n",
    "plt.plot(t, omega_mathematical, label='mathematical solution label')\n",
    "plt.legend(loc='best')\n",
    "plt.ylabel('y-label')\n",
    "plt.xlabel('x-label')\n",
    "plt.xlim(xlims)\n",
    "plt.grid()\n",
    "plt.show()"
   ]
  },
  {
   "cell_type": "code",
   "execution_count": null,
   "id": "b7dafd3f",
   "metadata": {},
   "outputs": [],
   "source": []
  }
 ],
 "metadata": {
  "kernelspec": {
   "display_name": "Python 3 (ipykernel)",
   "language": "python",
   "name": "python3"
  },
  "language_info": {
   "codemirror_mode": {
    "name": "ipython",
    "version": 3
   },
   "file_extension": ".py",
   "mimetype": "text/x-python",
   "name": "python",
   "nbconvert_exporter": "python",
   "pygments_lexer": "ipython3",
   "version": "3.7.10"
  }
 },
 "nbformat": 4,
 "nbformat_minor": 5
}
